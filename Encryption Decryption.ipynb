{
 "cells": [
  {
   "cell_type": "code",
   "execution_count": 1,
   "id": "d84ec777",
   "metadata": {},
   "outputs": [
    {
     "name": "stdout",
     "output_type": "stream",
     "text": [
      "Encrypted: Ekdudw#[U\n",
      "Decrypted: Bharat XR\n"
     ]
    }
   ],
   "source": [
    "def encrypt(text, shift):\n",
    "    encrypted_text = \"\"\n",
    "    for char in text:\n",
    "        \n",
    "        encrypted_char = chr((ord(char) + shift) % 256)\n",
    "        encrypted_text += encrypted_char\n",
    "    return encrypted_text\n",
    "\n",
    "def decrypt(text, shift):\n",
    "    decrypted_text = \"\"\n",
    "    for char in text:\n",
    "        \n",
    "        decrypted_char = chr((ord(char) - shift) % 256)\n",
    "        decrypted_text += decrypted_char\n",
    "    return decrypted_text\n",
    "\n",
    "shift_value = 3\n",
    "plaintext = \"Bharat XR\"\n",
    "ciphertext = encrypt(plaintext, shift_value)\n",
    "print(\"Encrypted:\", ciphertext)\n",
    "decryptedtext = decrypt(ciphertext, shift_value)\n",
    "print(\"Decrypted:\", decryptedtext)\n"
   ]
  },
  {
   "cell_type": "code",
   "execution_count": null,
   "id": "9d53591a",
   "metadata": {},
   "outputs": [],
   "source": []
  },
  {
   "cell_type": "code",
   "execution_count": null,
   "id": "2574110f",
   "metadata": {},
   "outputs": [],
   "source": []
  }
 ],
 "metadata": {
  "kernelspec": {
   "display_name": "Python 3 (ipykernel)",
   "language": "python",
   "name": "python3"
  },
  "language_info": {
   "codemirror_mode": {
    "name": "ipython",
    "version": 3
   },
   "file_extension": ".py",
   "mimetype": "text/x-python",
   "name": "python",
   "nbconvert_exporter": "python",
   "pygments_lexer": "ipython3",
   "version": "3.11.5"
  }
 },
 "nbformat": 4,
 "nbformat_minor": 5
}
